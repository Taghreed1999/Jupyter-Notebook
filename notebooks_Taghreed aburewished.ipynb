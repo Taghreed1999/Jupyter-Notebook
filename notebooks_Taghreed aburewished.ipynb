{
  "metadata": {
    "language_info": {
      "codemirror_mode": {
        "name": "python",
        "version": 3
      },
      "file_extension": ".py",
      "mimetype": "text/x-python",
      "name": "python",
      "nbconvert_exporter": "python",
      "pygments_lexer": "ipython3",
      "version": "3.8"
    },
    "kernelspec": {
      "name": "python",
      "display_name": "Python (Pyodide)",
      "language": "python"
    }
  },
  "nbformat_minor": 4,
  "nbformat": 4,
  "cells": [
    {
      "cell_type": "markdown",
      "source": "## My Jupyter note book in watson studio\n",
      "metadata": {}
    },
    {
      "cell_type": "markdown",
      "source": "## **My Name Taghreed Aburewished** \n## **Data science tool student**\n",
      "metadata": {}
    },
    {
      "cell_type": "markdown",
      "source": "## *I am interested in data science because it is important to understand the role data plays in making informed business descision*\n",
      "metadata": {}
    },
    {
      "cell_type": "code",
      "source": "msg = \"Hello World\"\nprint(msg)",
      "metadata": {
        "trusted": true
      },
      "execution_count": 3,
      "outputs": [
        {
          "name": "stdout",
          "text": "Hello World\n",
          "output_type": "stream"
        }
      ]
    },
    {
      "cell_type": "markdown",
      "source": "**Bulleted List**",
      "metadata": {}
    },
    {
      "cell_type": "markdown",
      "source": "## Programing Languages\n* Python\n* Java\n* Ruby\n* PHP",
      "metadata": {}
    },
    {
      "cell_type": "markdown",
      "source": "## Horizontal Rule\n******",
      "metadata": {}
    },
    {
      "cell_type": "markdown",
      "source": "## **Table**",
      "metadata": {}
    },
    {
      "cell_type": "markdown",
      "source": "|Name|Age|Salary|Job Title|\n|----|---|------|---------|\n|John Davis|55|7000|Sales Excutive|\n|Fred Schultz|45|6500|Business Analyst|\n|Gabriele Corno|40|6000|Quality Team leader|\n|Samson Afloabi|38|5200|Finance Manager|",
      "metadata": {}
    },
    {
      "cell_type": "markdown",
      "source": "",
      "metadata": {}
    }
  ]
}